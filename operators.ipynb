{
 "cells": [
  {
   "cell_type": "code",
   "execution_count": 7,
   "metadata": {},
   "outputs": [
    {
     "name": "stdout",
     "output_type": "stream",
     "text": [
      "Addition: 1110\n",
      "Subtraction: -642\n",
      "Multiplication: 204984\n",
      "Division: 0.2671232876712329\n",
      "Modulus: 234\n",
      "Exponential: 271076014183334251716759371459704889605180009576629880054455550435084656330053559312774172229535490399839258551378108516996215108289493631449044359726695718901647052594945440784077442124940584011328286675434200293476800743614095852324236273283413291380628187893411455079776265769221010028942977379720533237715373918382412259057076738606221141129903872614476390563511081794626535844368360028963829017225789874314899186846453741162015094402618070329229257531799761048582564977199689266962811177431376970903804357214545245410724157750914286136270882988720548032792515790971025771520477525947117775119718341322443466905953024523082397777827582745072254371288758978928243623649116057728435347552680975618167548912085903395391183721841560979794747979483905954718964900568172604544080997321049803975857952379977831836506047775472061950550971904478967163923799983360752634410769110458651546858354077181013212246879369466400312269672717285595505553496654959203069457577599187921631129506966180013113835585134445313443719777929878819344467037877372255555789199378657165861230285827523003879904865451308390919962017152707720328333605084969630589304070388167816472881520065569439178322856850468593643514234633581862329342788753330137441467663008953718406876681204770622605956753304264175682235459973489216755854285790296378861786519796525500178024225914040482247727057879893410993696116902009385365788319886531786601944259979726178293597827209211505374913368637261378871145361693262783881985314554970280497996395454100126219357106288275639611416273492100473256634592389911099689418367676071807369050628319390474923783925983585518024246957993922469164765792108291193631749090977866575003276106934670331161095682289703353133170397506138142302875467429657133047735498442901415659391610945994329562880165086423133107970622482772283426294346784277099445953700276543779045406011507817137199783989920690701190134244019724173672604376127872104779045703442820108697284793885647790144487814403254038052570630607785349751706153267530115491981626612065068659665818308788490337953545746102017134166016\n",
      "Flow-division: 0\n"
     ]
    }
   ],
   "source": [
    "#Operators\n",
    "\n",
    "#1-Arithmetic Operators\n",
    "\n",
    "#1)Addition(+)\n",
    "x=234\n",
    "y=876\n",
    "\n",
    "print(\"Addition:\",x+y)\n",
    "\n",
    "#2)Subtraction(-)\n",
    "\n",
    "print(\"Subtraction:\",x-y)\n",
    "\n",
    "#3)Multiplication(*)\n",
    "\n",
    "print(\"Multiplication:\",x*y)\n",
    "\n",
    "#4)Division(/)\n",
    "\n",
    "print(\"Division:\",x/y)\n",
    "\n",
    "#5)Modulus(%)\n",
    "\n",
    "print(\"Modulus:\",x%y)\n",
    "\n",
    "#6)Exponential(**)\n",
    " \n",
    "print(\"Exponential:\",x**y)\n",
    "\n",
    "#7)Flow-division(//)\n",
    "\n",
    "print(\"Flow-division:\",x//y)"
   ]
  },
  {
   "cell_type": "code",
   "execution_count": 28,
   "metadata": {},
   "outputs": [
    {
     "name": "stdout",
     "output_type": "stream",
     "text": [
      "30\n",
      "25\n",
      "300\n",
      "8\n",
      "81707280688754689024\n",
      "17\n",
      "11.2\n",
      "88\n",
      "8\n"
     ]
    }
   ],
   "source": [
    "#Assignment Operators\n",
    "\n",
    "a=20 \n",
    "a+=10\n",
    "print(a)\n",
    "\n",
    "b=15 \n",
    "b+=10\n",
    "print(b)\n",
    "\n",
    "c=30\n",
    "c*=10\n",
    "print(c)\n",
    "\n",
    "d=2267\n",
    "d%=9\n",
    "print(d)\n",
    "\n",
    "e=98\n",
    "e**=10\n",
    "print(e)\n",
    "\n",
    "f=68 \n",
    "f//=4\n",
    "print(f)\n",
    "\n",
    "g=56 \n",
    "g/=5\n",
    "print(g)\n",
    "\n",
    "h=87 \n",
    "h^=15\n",
    "print(h)\n",
    "\n",
    "i=650\n",
    "i&=12\n",
    "print(i)\n"
   ]
  },
  {
   "cell_type": "code",
   "execution_count": 34,
   "metadata": {},
   "outputs": [
    {
     "name": "stdout",
     "output_type": "stream",
     "text": [
      "False\n",
      "True\n",
      "True\n",
      "False\n",
      "True\n",
      "False\n"
     ]
    }
   ],
   "source": [
    "#3-Comparission Operators\n",
    "\n",
    "k=345\n",
    "p=234\n",
    "\n",
    "print(k==p) #equal\n",
    "\n",
    "print(k!=p) #not equal\n",
    "\n",
    "print(k>p) #greater than\n",
    "\n",
    "print(k<p) #less than\n",
    "\n",
    "print(k>=p) #greater than or equal\n",
    "\n",
    "print(k<=p) #less than or equal"
   ]
  },
  {
   "cell_type": "code",
   "execution_count": 38,
   "metadata": {},
   "outputs": [
    {
     "name": "stdout",
     "output_type": "stream",
     "text": [
      "True\n",
      "True\n",
      "True\n"
     ]
    }
   ],
   "source": [
    "#4-Logical Operators\n",
    "\n",
    "x=10\n",
    "print(x>8 and x>5) #logical and\n",
    "\n",
    "print(x>10 or x>5) #logical or\n",
    " \n",
    "print(not(x>10 and x>5)) #logical not"
   ]
  },
  {
   "cell_type": "code",
   "execution_count": 43,
   "metadata": {},
   "outputs": [
    {
     "name": "stdout",
     "output_type": "stream",
     "text": [
      "True\n",
      "False\n",
      "True\n",
      "True\n",
      "False\n"
     ]
    }
   ],
   "source": [
    "#5-Identity Operators\n",
    "\n",
    "#is\n",
    "\n",
    "list1=[123,345,675,976]\n",
    "list2=[675,543,987,32]\n",
    "x=list1\n",
    "print(x is list1)\n",
    "print(list1 is list2)\n",
    "\n",
    "#is not\n",
    "\n",
    "print(list1 is not list2)\n",
    "print(x is not list2)\n",
    "print(x is not list1)\n"
   ]
  },
  {
   "cell_type": "code",
   "execution_count": 47,
   "metadata": {},
   "outputs": [
    {
     "name": "stdout",
     "output_type": "stream",
     "text": [
      "False\n",
      "False\n",
      "True\n",
      "True\n",
      "True\n",
      "False\n"
     ]
    }
   ],
   "source": [
    "#6-Membership Operators\n",
    "\n",
    "#in\n",
    "\n",
    "print(x in list2) #returns false because we don't have x value in list2\n",
    "\n",
    "print(x in list1)\n",
    "\n",
    "print(123 in list1)\n",
    "\n",
    "\n",
    "#not in\n",
    "\n",
    "print(x not in list1)\n",
    "\n",
    "print(x not in list2)\n",
    "\n",
    "print(123 not in list1)"
   ]
  },
  {
   "cell_type": "code",
   "execution_count": 52,
   "metadata": {},
   "outputs": [
    {
     "name": "stdout",
     "output_type": "stream",
     "text": [
      "2\n",
      "10\n",
      "8\n",
      "-11\n",
      "40\n",
      "2\n"
     ]
    }
   ],
   "source": [
    "#7-Bitiwise Operators\n",
    "\n",
    "#Bitiwise AND(&)\n",
    "\n",
    "print(10 & 2)\n",
    "\n",
    "#Bitiwise OR(|)\n",
    "\n",
    "print(10 | 2)\n",
    "\n",
    "#Bitiwise XOR(^)\n",
    "\n",
    "print(10 ^ 2)\n",
    "\n",
    "#Bitiwise NOT(~)\n",
    "\n",
    "print(~10)\n",
    "\n",
    "#Left shift(<<)\n",
    "\n",
    "print(10 << 2)\n",
    "\n",
    "#Right shift(>>)\n",
    "\n",
    "print(10 >> 2)\n",
    "\n"
   ]
  }
 ],
 "metadata": {
  "kernelspec": {
   "display_name": "Python 3",
   "language": "python",
   "name": "python3"
  },
  "language_info": {
   "codemirror_mode": {
    "name": "ipython",
    "version": 3
   },
   "file_extension": ".py",
   "mimetype": "text/x-python",
   "name": "python",
   "nbconvert_exporter": "python",
   "pygments_lexer": "ipython3",
   "version": "3.12.0"
  }
 },
 "nbformat": 4,
 "nbformat_minor": 2
}
